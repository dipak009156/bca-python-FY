{
 "cells": [
  {
   "cell_type": "code",
   "execution_count": 1,
   "id": "b919ae7f-44e6-451c-8ee7-e11cef84c53a",
   "metadata": {},
   "outputs": [],
   "source": [
    "name = \"Dipak\""
   ]
  },
  {
   "cell_type": "code",
   "execution_count": 2,
   "id": "242ea247-98d8-41b2-bd76-4fa9f8573d90",
   "metadata": {},
   "outputs": [
    {
     "data": {
      "text/plain": [
       "'Dipak'"
      ]
     },
     "execution_count": 2,
     "metadata": {},
     "output_type": "execute_result"
    }
   ],
   "source": [
    "name"
   ]
  },
  {
   "cell_type": "code",
   "execution_count": 3,
   "id": "e04b7b5c-5f9d-4f7e-97a4-f57c4c58ae11",
   "metadata": {},
   "outputs": [
    {
     "data": {
      "text/plain": [
       "str"
      ]
     },
     "execution_count": 3,
     "metadata": {},
     "output_type": "execute_result"
    }
   ],
   "source": [
    "type(name)"
   ]
  },
  {
   "cell_type": "code",
   "execution_count": 4,
   "id": "a2b7cec7-ffa8-4da5-ac8a-85e9ed8c341d",
   "metadata": {},
   "outputs": [],
   "source": [
    "a = 2 "
   ]
  },
  {
   "cell_type": "code",
   "execution_count": 5,
   "id": "fa466f65-d0dd-4ffe-ae12-b45fae4e2aa2",
   "metadata": {},
   "outputs": [
    {
     "data": {
      "text/plain": [
       "int"
      ]
     },
     "execution_count": 5,
     "metadata": {},
     "output_type": "execute_result"
    }
   ],
   "source": [
    "type(a)"
   ]
  },
  {
   "cell_type": "code",
   "execution_count": 12,
   "id": "f1ed30b7-58ee-4f70-8c66-9f61293abc5e",
   "metadata": {},
   "outputs": [],
   "source": [
    "a = 5.8889"
   ]
  },
  {
   "cell_type": "code",
   "execution_count": 13,
   "id": "a59a51a9-3abb-45ef-8bc2-2eb01d372b22",
   "metadata": {},
   "outputs": [
    {
     "data": {
      "text/plain": [
       "float"
      ]
     },
     "execution_count": 13,
     "metadata": {},
     "output_type": "execute_result"
    }
   ],
   "source": [
    "type(a)"
   ]
  },
  {
   "cell_type": "code",
   "execution_count": 14,
   "id": "96a54d5c-2779-45df-a26d-356f453837c5",
   "metadata": {},
   "outputs": [],
   "source": [
    "a = 7658.7658"
   ]
  },
  {
   "cell_type": "code",
   "execution_count": 15,
   "id": "d696d7d6-8d7b-4558-9817-f10c20300266",
   "metadata": {},
   "outputs": [
    {
     "data": {
      "text/plain": [
       "float"
      ]
     },
     "execution_count": 15,
     "metadata": {},
     "output_type": "execute_result"
    }
   ],
   "source": [
    "type(a)"
   ]
  },
  {
   "cell_type": "code",
   "execution_count": 35,
   "id": "82c9ad8a-fc83-458a-963d-c38f026a297d",
   "metadata": {},
   "outputs": [],
   "source": [
    "a = 7+8j"
   ]
  },
  {
   "cell_type": "code",
   "execution_count": 36,
   "id": "7fb6906d-fc8a-4d30-965b-c12bd227babd",
   "metadata": {},
   "outputs": [
    {
     "data": {
      "text/plain": [
       "(14+16j)"
      ]
     },
     "execution_count": 36,
     "metadata": {},
     "output_type": "execute_result"
    }
   ],
   "source": [
    "a+a"
   ]
  },
  {
   "cell_type": "code",
   "execution_count": 37,
   "id": "d2ae8770-1c28-46e1-897a-9ef88bf4cf55",
   "metadata": {},
   "outputs": [],
   "source": [
    "n = a+a"
   ]
  },
  {
   "cell_type": "code",
   "execution_count": 38,
   "id": "01a8f1e9-147d-46ab-9d5d-bd23c8e15d07",
   "metadata": {},
   "outputs": [
    {
     "data": {
      "text/plain": [
       "(-15+112j)"
      ]
     },
     "execution_count": 38,
     "metadata": {},
     "output_type": "execute_result"
    }
   ],
   "source": [
    "a*a"
   ]
  },
  {
   "cell_type": "code",
   "execution_count": 39,
   "id": "eb21ba31-4882-4030-bd82-3f726b21830a",
   "metadata": {},
   "outputs": [
    {
     "data": {
      "text/plain": [
       "(1+0j)"
      ]
     },
     "execution_count": 39,
     "metadata": {},
     "output_type": "execute_result"
    }
   ],
   "source": [
    "a/a"
   ]
  },
  {
   "cell_type": "code",
   "execution_count": 17,
   "id": "1a7d20e4-fcfb-4acb-8beb-a3d00391eab8",
   "metadata": {},
   "outputs": [
    {
     "data": {
      "text/plain": [
       "(7+8j)"
      ]
     },
     "execution_count": 17,
     "metadata": {},
     "output_type": "execute_result"
    }
   ],
   "source": [
    "a"
   ]
  },
  {
   "cell_type": "code",
   "execution_count": 19,
   "id": "abf84673-6e0e-4a30-a35e-0a61b8c4a2b2",
   "metadata": {},
   "outputs": [
    {
     "data": {
      "text/plain": [
       "complex"
      ]
     },
     "execution_count": 19,
     "metadata": {},
     "output_type": "execute_result"
    }
   ],
   "source": [
    "type(a)"
   ]
  },
  {
   "cell_type": "code",
   "execution_count": 28,
   "id": "98fad708-83b6-4a45-944a-81bff94f79b8",
   "metadata": {},
   "outputs": [
    {
     "data": {
      "text/plain": [
       "69"
      ]
     },
     "execution_count": 28,
     "metadata": {},
     "output_type": "execute_result"
    }
   ],
   "source": [
    "1+68"
   ]
  },
  {
   "cell_type": "code",
   "execution_count": 33,
   "id": "97ec80c9-a3fd-4a93-9cab-1833e5f455a4",
   "metadata": {},
   "outputs": [
    {
     "data": {
      "text/plain": [
       "138"
      ]
     },
     "execution_count": 33,
     "metadata": {},
     "output_type": "execute_result"
    }
   ],
   "source": [
    "a+a"
   ]
  },
  {
   "cell_type": "code",
   "execution_count": 40,
   "id": "eac4b703-a58e-48fd-964f-66c1a02cb57c",
   "metadata": {},
   "outputs": [
    {
     "data": {
      "text/plain": [
       "(-15+112j)"
      ]
     },
     "execution_count": 40,
     "metadata": {},
     "output_type": "execute_result"
    }
   ],
   "source": [
    "a*a"
   ]
  },
  {
   "cell_type": "code",
   "execution_count": 41,
   "id": "b2a4d579-bcba-40c1-ab8d-4f6f025b70c0",
   "metadata": {},
   "outputs": [
    {
     "data": {
      "text/plain": [
       "1"
      ]
     },
     "execution_count": 41,
     "metadata": {},
     "output_type": "execute_result"
    }
   ],
   "source": [
    "True-False"
   ]
  },
  {
   "cell_type": "code",
   "execution_count": 43,
   "id": "9b798567-af65-416b-8725-2691915e4831",
   "metadata": {},
   "outputs": [],
   "source": [
    "a = True"
   ]
  },
  {
   "cell_type": "code",
   "execution_count": 44,
   "id": "0ede1ef8-ec2f-4bcd-a990-dffd956de13f",
   "metadata": {},
   "outputs": [
    {
     "data": {
      "text/plain": [
       "True"
      ]
     },
     "execution_count": 44,
     "metadata": {},
     "output_type": "execute_result"
    }
   ],
   "source": [
    "a"
   ]
  },
  {
   "cell_type": "code",
   "execution_count": 46,
   "id": "2ea00419-b250-41fd-9a9d-98fb9c54fd18",
   "metadata": {},
   "outputs": [
    {
     "data": {
      "text/plain": [
       "bool"
      ]
     },
     "execution_count": 46,
     "metadata": {},
     "output_type": "execute_result"
    }
   ],
   "source": [
    "type(a)"
   ]
  },
  {
   "cell_type": "code",
   "execution_count": 48,
   "id": "3932ba44-ce78-4e1c-83de-73a3fcd4bc4c",
   "metadata": {},
   "outputs": [
    {
     "data": {
      "text/plain": [
       "-1"
      ]
     },
     "execution_count": 48,
     "metadata": {},
     "output_type": "execute_result"
    }
   ],
   "source": [
    "False-True"
   ]
  },
  {
   "cell_type": "code",
   "execution_count": 49,
   "id": "62d74f18-6576-450a-b91f-07d8146823a3",
   "metadata": {},
   "outputs": [
    {
     "data": {
      "text/plain": [
       "0"
      ]
     },
     "execution_count": 49,
     "metadata": {},
     "output_type": "execute_result"
    }
   ],
   "source": [
    "True*False"
   ]
  },
  {
   "cell_type": "code",
   "execution_count": 50,
   "id": "3cad7d5d-3e22-4e1b-bd9d-e6a8ef5585ef",
   "metadata": {},
   "outputs": [
    {
     "data": {
      "text/plain": [
       "0"
      ]
     },
     "execution_count": 50,
     "metadata": {},
     "output_type": "execute_result"
    }
   ],
   "source": [
    "False*True"
   ]
  },
  {
   "cell_type": "code",
   "execution_count": 52,
   "id": "b6169a76-52ef-41a6-af2e-85df4160ce11",
   "metadata": {},
   "outputs": [
    {
     "ename": "ZeroDivisionError",
     "evalue": "division by zero",
     "output_type": "error",
     "traceback": [
      "\u001b[0;31m---------------------------------------------------------------------------\u001b[0m",
      "\u001b[0;31mZeroDivisionError\u001b[0m                         Traceback (most recent call last)",
      "Cell \u001b[0;32mIn[52], line 1\u001b[0m\n\u001b[0;32m----> 1\u001b[0m \u001b[38;5;28;01mTrue\u001b[39;00m\u001b[38;5;241m/\u001b[39m\u001b[38;5;28;01mFalse\u001b[39;00m\n",
      "\u001b[0;31mZeroDivisionError\u001b[0m: division by zero"
     ]
    }
   ],
   "source": [
    "True/False"
   ]
  },
  {
   "cell_type": "code",
   "execution_count": 53,
   "id": "f65928f2-8b6c-4d90-b9b4-c7b9cefc888e",
   "metadata": {},
   "outputs": [
    {
     "data": {
      "text/plain": [
       "0.0"
      ]
     },
     "execution_count": 53,
     "metadata": {},
     "output_type": "execute_result"
    }
   ],
   "source": [
    "False/True"
   ]
  },
  {
   "cell_type": "code",
   "execution_count": 54,
   "id": "4aaa04e3-d5b3-423e-8021-3062268fa2b6",
   "metadata": {},
   "outputs": [
    {
     "data": {
      "text/plain": [
       "1"
      ]
     },
     "execution_count": 54,
     "metadata": {},
     "output_type": "execute_result"
    }
   ],
   "source": [
    "True+False"
   ]
  },
  {
   "cell_type": "code",
   "execution_count": 55,
   "id": "266ac106-f9f7-4732-829e-2a8a68f6d3e6",
   "metadata": {},
   "outputs": [
    {
     "data": {
      "text/plain": [
       "1"
      ]
     },
     "execution_count": 55,
     "metadata": {},
     "output_type": "execute_result"
    }
   ],
   "source": [
    "False+True"
   ]
  },
  {
   "cell_type": "code",
   "execution_count": 56,
   "id": "31230537-40b0-4feb-8842-afed13283e13",
   "metadata": {},
   "outputs": [],
   "source": [
    "name = \"Dipak Chavan\""
   ]
  },
  {
   "cell_type": "code",
   "execution_count": 57,
   "id": "4ea0654c-7755-4877-b53f-1589539c6adc",
   "metadata": {},
   "outputs": [
    {
     "data": {
      "text/plain": [
       "'Dipak Chavan'"
      ]
     },
     "execution_count": 57,
     "metadata": {},
     "output_type": "execute_result"
    }
   ],
   "source": [
    "name"
   ]
  },
  {
   "cell_type": "code",
   "execution_count": 58,
   "id": "724a32ab-ff1f-442e-9eaa-1ad6b26bc260",
   "metadata": {},
   "outputs": [
    {
     "data": {
      "text/plain": [
       "'Dipak Ch'"
      ]
     },
     "execution_count": 58,
     "metadata": {},
     "output_type": "execute_result"
    }
   ],
   "source": [
    "name[0:8]"
   ]
  },
  {
   "cell_type": "code",
   "execution_count": 60,
   "id": "c9af27d5-63e7-4457-b7fb-d744e076b444",
   "metadata": {},
   "outputs": [
    {
     "data": {
      "text/plain": [
       "'Dipak Chav'"
      ]
     },
     "execution_count": 60,
     "metadata": {},
     "output_type": "execute_result"
    }
   ],
   "source": [
    "name[0:10]"
   ]
  },
  {
   "cell_type": "code",
   "execution_count": 61,
   "id": "0c18eadf-2d93-483b-a4ea-d6a695248f64",
   "metadata": {},
   "outputs": [
    {
     "data": {
      "text/plain": [
       "'pak Chavan'"
      ]
     },
     "execution_count": 61,
     "metadata": {},
     "output_type": "execute_result"
    }
   ],
   "source": [
    "name[2:90]"
   ]
  },
  {
   "cell_type": "code",
   "execution_count": 64,
   "id": "8bff0bb7-a750-4388-998f-59e473cfcd1d",
   "metadata": {},
   "outputs": [
    {
     "data": {
      "text/plain": [
       "''"
      ]
     },
     "execution_count": 64,
     "metadata": {},
     "output_type": "execute_result"
    }
   ],
   "source": [
    "name[11:2]"
   ]
  },
  {
   "cell_type": "code",
   "execution_count": 77,
   "id": "edb9ce4b-311e-4f15-8404-caa2aae5cd14",
   "metadata": {},
   "outputs": [
    {
     "data": {
      "text/plain": [
       "'p an'"
      ]
     },
     "execution_count": 77,
     "metadata": {},
     "output_type": "execute_result"
    }
   ],
   "source": [
    "name[2:90:3]"
   ]
  },
  {
   "cell_type": "code",
   "execution_count": 91,
   "id": "694a09ad-25cf-4182-882a-6c660fd05cc3",
   "metadata": {},
   "outputs": [
    {
     "data": {
      "text/plain": [
       "''"
      ]
     },
     "execution_count": 91,
     "metadata": {},
     "output_type": "execute_result"
    }
   ],
   "source": [
    "name[-5:-15:1]"
   ]
  },
  {
   "cell_type": "code",
   "execution_count": 92,
   "id": "7160d8fb-a6e5-4474-a67a-98f83b2a167b",
   "metadata": {},
   "outputs": [
    {
     "data": {
      "text/plain": [
       "'nava'"
      ]
     },
     "execution_count": 92,
     "metadata": {},
     "output_type": "execute_result"
    }
   ],
   "source": [
    "name[15:7:-1]"
   ]
  },
  {
   "cell_type": "code",
   "execution_count": 90,
   "id": "ef73e0fc-83ad-49aa-b39a-9ce53635f5d9",
   "metadata": {},
   "outputs": [
    {
     "data": {
      "text/plain": [
       "''"
      ]
     },
     "execution_count": 90,
     "metadata": {},
     "output_type": "execute_result"
    }
   ],
   "source": [
    "name[15:5:1]"
   ]
  },
  {
   "cell_type": "code",
   "execution_count": 93,
   "id": "2660e6af-77c3-47b6-8e70-24e4f91ba6f5",
   "metadata": {},
   "outputs": [],
   "source": [
    "name = \"Dipak Chavan\""
   ]
  },
  {
   "cell_type": "code",
   "execution_count": 110,
   "id": "35dc5fd1-1ddb-4cce-9084-db5be27f20cc",
   "metadata": {},
   "outputs": [
    {
     "data": {
      "text/plain": [
       "'navahC kapiD'"
      ]
     },
     "execution_count": 110,
     "metadata": {},
     "output_type": "execute_result"
    }
   ],
   "source": [
    "name[11::-1]"
   ]
  },
  {
   "cell_type": "code",
   "execution_count": 1,
   "id": "e3436daa-92c3-4bb1-8ceb-2889c4c97378",
   "metadata": {},
   "outputs": [
    {
     "ename": "NameError",
     "evalue": "name 'name1' is not defined",
     "output_type": "error",
     "traceback": [
      "\u001b[0;31m---------------------------------------------------------------------------\u001b[0m",
      "\u001b[0;31mNameError\u001b[0m                                 Traceback (most recent call last)",
      "Cell \u001b[0;32mIn[1], line 1\u001b[0m\n\u001b[0;32m----> 1\u001b[0m name1\u001b[38;5;241m*\u001b[39m\u001b[38;5;241m4\u001b[39m\n",
      "\u001b[0;31mNameError\u001b[0m: name 'name1' is not defined"
     ]
    }
   ],
   "source": [
    "name1*4"
   ]
  },
  {
   "cell_type": "code",
   "execution_count": null,
   "id": "be14a856-4046-42bc-beac-53b5f33157ac",
   "metadata": {},
   "outputs": [],
   "source": []
  }
 ],
 "metadata": {
  "kernelspec": {
   "display_name": "Python 3 (ipykernel)",
   "language": "python",
   "name": "python3"
  },
  "language_info": {
   "codemirror_mode": {
    "name": "ipython",
    "version": 3
   },
   "file_extension": ".py",
   "mimetype": "text/x-python",
   "name": "python",
   "nbconvert_exporter": "python",
   "pygments_lexer": "ipython3",
   "version": "3.12.4"
  }
 },
 "nbformat": 4,
 "nbformat_minor": 5
}
