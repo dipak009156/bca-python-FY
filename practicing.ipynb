{
 "cells": [
  {
   "cell_type": "code",
   "execution_count": 1,
   "id": "a71a37b6-3c09-46fe-b0c6-1780e1f60552",
   "metadata": {},
   "outputs": [],
   "source": [
    " s= \"this is My First Python programming class and i am learNING python string and its function\""
   ]
  },
  {
   "cell_type": "code",
   "execution_count": 2,
   "id": "5926a515-4a8a-4334-8915-ab89c9bbbc7d",
   "metadata": {},
   "outputs": [
    {
     "data": {
      "text/plain": [
       "'this is My First Python programming class and i am learNING python string and its function'"
      ]
     },
     "execution_count": 2,
     "metadata": {},
     "output_type": "execute_result"
    }
   ],
   "source": [
    "s"
   ]
  },
  {
   "cell_type": "markdown",
   "id": "cf23bde3-8dfe-4e8b-8e7a-bbbb9b632c4d",
   "metadata": {},
   "source": [
    "### 1 . Try to extract data from index one to index 300 with a jump of 3"
   ]
  },
  {
   "cell_type": "code",
   "execution_count": 5,
   "id": "54bf417d-840b-40a0-82fc-a18236d05093",
   "metadata": {},
   "outputs": [
    {
     "data": {
      "text/plain": [
       "'h   r tnrrmglsnimeNGyosi dtfco'"
      ]
     },
     "execution_count": 5,
     "metadata": {},
     "output_type": "execute_result"
    }
   ],
   "source": [
    "s[1:301:3]"
   ]
  },
  {
   "cell_type": "markdown",
   "id": "599ffd77-0ef2-4068-ad05-7471364a5831",
   "metadata": {},
   "source": [
    "# 2. Try to reverse a string without using reverse function "
   ]
  },
  {
   "cell_type": "code",
   "execution_count": 16,
   "id": "35faf9ff-2638-4810-8794-1f6758fedd48",
   "metadata": {},
   "outputs": [
    {
     "data": {
      "text/plain": [
       "'noitcnuf sti dna gnirts nohtyp GNINrael ma i dna ssalc gnimmargorp nohtyP tsriF yM si siht'"
      ]
     },
     "execution_count": 16,
     "metadata": {},
     "output_type": "execute_result"
    }
   ],
   "source": [
    "s[::-1]"
   ]
  },
  {
   "cell_type": "markdown",
   "id": "acc1c0c6-4978-4de1-8f8b-d59bea6df92a",
   "metadata": {},
   "source": [
    "# 3. Try to split a string after conversion of entire string in uppercase"
   ]
  },
  {
   "cell_type": "code",
   "execution_count": 21,
   "id": "b13a06c6-24ba-4b0a-8fa6-25ed37b1f929",
   "metadata": {},
   "outputs": [
    {
     "data": {
      "text/plain": [
       "['THIS',\n",
       " 'IS',\n",
       " 'MY',\n",
       " 'FIRST',\n",
       " 'PYTHON',\n",
       " 'PROGRAMMING',\n",
       " 'CLASS',\n",
       " 'AND',\n",
       " 'I',\n",
       " 'AM',\n",
       " 'LEARNING',\n",
       " 'PYTHON',\n",
       " 'STRING',\n",
       " 'AND',\n",
       " 'ITS',\n",
       " 'FUNCTION']"
      ]
     },
     "execution_count": 21,
     "metadata": {},
     "output_type": "execute_result"
    }
   ],
   "source": [
    "s.upper() .split()"
   ]
  },
  {
   "cell_type": "markdown",
   "id": "47aef816-43da-4d1c-a0d5-40084e1ee94c",
   "metadata": {},
   "source": [
    "# 4. try to convert the whole string into lower case "
   ]
  },
  {
   "cell_type": "code",
   "execution_count": 19,
   "id": "9fd99d5e-8569-4336-ba38-e6a30afb3d5e",
   "metadata": {},
   "outputs": [
    {
     "data": {
      "text/plain": [
       "'this is my first python programming class and i am learning python string and its function'"
      ]
     },
     "execution_count": 19,
     "metadata": {},
     "output_type": "execute_result"
    }
   ],
   "source": [
    "s.lower()"
   ]
  },
  {
   "cell_type": "markdown",
   "id": "7e3209d0-a5b8-4c06-92e6-e1b15e4deac7",
   "metadata": {},
   "source": [
    "# 5 . Try to capitalize the whole string"
   ]
  },
  {
   "cell_type": "code",
   "execution_count": 20,
   "id": "8938f35f-669e-47f0-89c3-2544628fb514",
   "metadata": {},
   "outputs": [
    {
     "data": {
      "text/plain": [
       "'THIS IS MY FIRST PYTHON PROGRAMMING CLASS AND I AM LEARNING PYTHON STRING AND ITS FUNCTION'"
      ]
     },
     "execution_count": 20,
     "metadata": {},
     "output_type": "execute_result"
    }
   ],
   "source": [
    "s.upper()"
   ]
  },
  {
   "cell_type": "markdown",
   "id": "1d45be3b-4d0e-4e04-81d8-d693614b0d21",
   "metadata": {},
   "source": [
    "# 6 . Write a diference between isalnum() and isalpha() "
   ]
  },
  {
   "cell_type": "code",
   "execution_count": 24,
   "id": "a9d0a664-1854-41f6-b325-4c316e92feb4",
   "metadata": {},
   "outputs": [
    {
     "data": {
      "text/plain": [
       "False"
      ]
     },
     "execution_count": 24,
     "metadata": {},
     "output_type": "execute_result"
    }
   ],
   "source": [
    "s.isalnum()"
   ]
  },
  {
   "cell_type": "code",
   "execution_count": 25,
   "id": "ab164b58-2219-42cd-8ca1-277075ec5588",
   "metadata": {},
   "outputs": [
    {
     "data": {
      "text/plain": [
       "False"
      ]
     },
     "execution_count": 25,
     "metadata": {},
     "output_type": "execute_result"
    }
   ],
   "source": [
    "s.isalpha()"
   ]
  },
  {
   "cell_type": "markdown",
   "id": "de3205b9-0c4c-4f7d-a7cb-d00d6e443dca",
   "metadata": {},
   "source": [
    "# 7. Try to give an example of expand tab"
   ]
  },
  {
   "cell_type": "code",
   "execution_count": 22,
   "id": "e87a8603-5144-45c9-bdcd-27ac7e07a67e",
   "metadata": {},
   "outputs": [
    {
     "data": {
      "text/plain": [
       "'this is My First Python programming class and i am learNING python string and its function'"
      ]
     },
     "execution_count": 22,
     "metadata": {},
     "output_type": "execute_result"
    }
   ],
   "source": [
    "s.expandtabs()"
   ]
  },
  {
   "cell_type": "markdown",
   "id": "12660592-0e1d-417d-9cc9-05837fbbee26",
   "metadata": {},
   "source": [
    "# 8 . Give an example of strip , lstrip and rstrip"
   ]
  },
  {
   "cell_type": "code",
   "execution_count": 29,
   "id": "fd13354d-531d-4be5-a037-534ab61c295d",
   "metadata": {},
   "outputs": [
    {
     "data": {
      "text/plain": [
       "'this is My First Python programming class and i am learNING python string and its function'"
      ]
     },
     "execution_count": 29,
     "metadata": {},
     "output_type": "execute_result"
    }
   ],
   "source": [
    "s.strip() .strip() .lstrip()"
   ]
  },
  {
   "cell_type": "markdown",
   "id": "b41dc748-573a-40b5-b339-a29d2f583a43",
   "metadata": {},
   "source": [
    "# 9. Replace a string charecter by another charector by taking your own example \"Your Name\""
   ]
  },
  {
   "cell_type": "code",
   "execution_count": null,
   "id": "7635c68f-8875-4481-933f-cc0d0ff66fac",
   "metadata": {},
   "outputs": [],
   "source": []
  },
  {
   "cell_type": "markdown",
   "id": "92689577-6bcb-47fb-9757-9eb0f63d991d",
   "metadata": {},
   "source": [
    "# 10 . Try to give a defination of string center function with and exmple"
   ]
  },
  {
   "cell_type": "code",
   "execution_count": null,
   "id": "926e6ca4-95e5-42a6-905d-361e288203ea",
   "metadata": {},
   "outputs": [],
   "source": []
  },
  {
   "cell_type": "markdown",
   "id": "2aa03448-a9c2-48c1-9f80-35c9c64d3060",
   "metadata": {},
   "source": [
    "# 11 . Write your own definition of compiler and interpretor without copy paste form internet in your own language"
   ]
  },
  {
   "cell_type": "code",
   "execution_count": null,
   "id": "2eee4da2-cea9-4746-ab81-502469d9afa8",
   "metadata": {},
   "outputs": [],
   "source": []
  },
  {
   "cell_type": "markdown",
   "id": "0eddb4cf-7e98-42e1-ad3e-2cf7244e73fa",
   "metadata": {},
   "source": [
    "# 12 . Python is a interpreted of compiled language give a clear ans with your understanding"
   ]
  },
  {
   "cell_type": "code",
   "execution_count": null,
   "id": "2fb73773-2678-4732-9784-5844047fb8c8",
   "metadata": {},
   "outputs": [],
   "source": []
  },
  {
   "cell_type": "markdown",
   "id": "63b926a8-530f-4819-a50f-4888543ecbe4",
   "metadata": {},
   "source": [
    "# 13 . Try to write a usecase of python with your understanding "
   ]
  },
  {
   "cell_type": "code",
   "execution_count": null,
   "id": "de0b1eaa-39e1-4d53-98cc-b48022f0819b",
   "metadata": {},
   "outputs": [],
   "source": []
  }
 ],
 "metadata": {
  "kernelspec": {
   "display_name": "Python 3 (ipykernel)",
   "language": "python",
   "name": "python3"
  },
  "language_info": {
   "codemirror_mode": {
    "name": "ipython",
    "version": 3
   },
   "file_extension": ".py",
   "mimetype": "text/x-python",
   "name": "python",
   "nbconvert_exporter": "python",
   "pygments_lexer": "ipython3",
   "version": "3.12.4"
  }
 },
 "nbformat": 4,
 "nbformat_minor": 5
}
