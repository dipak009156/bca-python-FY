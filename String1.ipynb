{
 "cells": [
  {
   "cell_type": "code",
   "execution_count": 3,
   "id": "be44e72a-da76-49bd-b860-5ab65f6390b7",
   "metadata": {},
   "outputs": [],
   "source": [
    "name = \"Dipak Chavan\""
   ]
  },
  {
   "cell_type": "code",
   "execution_count": 4,
   "id": "ab013e0f-98a1-4ffc-b020-d15653f3adc2",
   "metadata": {},
   "outputs": [
    {
     "data": {
      "text/plain": [
       "'Dipak Chavan'"
      ]
     },
     "execution_count": 4,
     "metadata": {},
     "output_type": "execute_result"
    }
   ],
   "source": [
    "name"
   ]
  },
  {
   "cell_type": "code",
   "execution_count": 12,
   "id": "17ac583d-7272-493f-b192-2eaee1120f5d",
   "metadata": {},
   "outputs": [
    {
     "data": {
      "text/plain": [
       "'DIPAK CHAVAN'"
      ]
     },
     "execution_count": 12,
     "metadata": {},
     "output_type": "execute_result"
    }
   ],
   "source": [
    "name.upper()"
   ]
  },
  {
   "cell_type": "code",
   "execution_count": 13,
   "id": "7e6368d5-4762-484c-bcae-7222cb143a3b",
   "metadata": {},
   "outputs": [
    {
     "data": {
      "text/plain": [
       "'dipak chavan'"
      ]
     },
     "execution_count": 13,
     "metadata": {},
     "output_type": "execute_result"
    }
   ],
   "source": [
    "name.lower()"
   ]
  },
  {
   "cell_type": "code",
   "execution_count": 25,
   "id": "d53ec2b4-5847-4efc-a866-dfbca196cb3d",
   "metadata": {},
   "outputs": [],
   "source": [
    "name = name.upper()"
   ]
  },
  {
   "cell_type": "code",
   "execution_count": 26,
   "id": "cb5603de-1df2-48dd-aa51-6582329a15d2",
   "metadata": {},
   "outputs": [
    {
     "data": {
      "text/plain": [
       "'DIPAK CHAVAN'"
      ]
     },
     "execution_count": 26,
     "metadata": {},
     "output_type": "execute_result"
    }
   ],
   "source": [
    "name"
   ]
  },
  {
   "cell_type": "code",
   "execution_count": 27,
   "id": "81d76918-e984-46f9-a291-64ba2756d440",
   "metadata": {},
   "outputs": [],
   "source": [
    "name = name.lower()"
   ]
  },
  {
   "cell_type": "code",
   "execution_count": 28,
   "id": "522045ce-d18f-41c0-b0d7-91172dcf60c0",
   "metadata": {},
   "outputs": [
    {
     "data": {
      "text/plain": [
       "'dipak chavan'"
      ]
     },
     "execution_count": 28,
     "metadata": {},
     "output_type": "execute_result"
    }
   ],
   "source": [
    "name"
   ]
  },
  {
   "cell_type": "code",
   "execution_count": 29,
   "id": "97fdd76d-5da2-4383-ad51-2991c0ec0231",
   "metadata": {},
   "outputs": [],
   "source": [
    "name1= \"Michael Martin\""
   ]
  },
  {
   "cell_type": "code",
   "execution_count": 35,
   "id": "71c62d0e-6a3c-4056-865d-13ad1c7883ca",
   "metadata": {},
   "outputs": [
    {
     "data": {
      "text/plain": [
       "'mICHAEL mARTIN'"
      ]
     },
     "execution_count": 35,
     "metadata": {},
     "output_type": "execute_result"
    }
   ],
   "source": [
    "name1.swapcase()"
   ]
  },
  {
   "cell_type": "code",
   "execution_count": 38,
   "id": "35a82d58-b62f-404b-b529-eb1f7431598b",
   "metadata": {},
   "outputs": [],
   "source": [
    "name3=name1.swapcase()"
   ]
  },
  {
   "cell_type": "code",
   "execution_count": 39,
   "id": "7bd1e9ad-2c5d-4e2a-979f-e90d88c3887d",
   "metadata": {},
   "outputs": [
    {
     "data": {
      "text/plain": [
       "'mICHAEL mARTIN'"
      ]
     },
     "execution_count": 39,
     "metadata": {},
     "output_type": "execute_result"
    }
   ],
   "source": [
    "name3"
   ]
  },
  {
   "cell_type": "code",
   "execution_count": 45,
   "id": "de639690-55f0-4012-a68b-82f6d482bdb7",
   "metadata": {},
   "outputs": [],
   "source": [
    "name=\"          vijayalaxmi        gurav    \""
   ]
  },
  {
   "cell_type": "code",
   "execution_count": 46,
   "id": "e96f4266-e285-406b-8297-6275d55e739e",
   "metadata": {},
   "outputs": [
    {
     "data": {
      "text/plain": [
       "'          vijayalaxmi        gurav    '"
      ]
     },
     "execution_count": 46,
     "metadata": {},
     "output_type": "execute_result"
    }
   ],
   "source": [
    "name"
   ]
  },
  {
   "cell_type": "code",
   "execution_count": 52,
   "id": "c09b6dac-63d3-4c90-92c4-0dfc1195f182",
   "metadata": {},
   "outputs": [
    {
     "data": {
      "text/plain": [
       "'vijayalaxmi        gurav    '"
      ]
     },
     "execution_count": 52,
     "metadata": {},
     "output_type": "execute_result"
    }
   ],
   "source": [
    "name.lstrip()"
   ]
  },
  {
   "cell_type": "code",
   "execution_count": 53,
   "id": "dd5bf21d-c8ba-42b5-b1d9-223c442e522c",
   "metadata": {},
   "outputs": [
    {
     "data": {
      "text/plain": [
       "'          vijayalaxmi        gurav'"
      ]
     },
     "execution_count": 53,
     "metadata": {},
     "output_type": "execute_result"
    }
   ],
   "source": [
    "name.rstrip()"
   ]
  },
  {
   "cell_type": "code",
   "execution_count": 59,
   "id": "b766c54e-da83-4e7c-9119-b459cd9d98ad",
   "metadata": {},
   "outputs": [],
   "source": [
    "name4=\"Rem desmond\""
   ]
  },
  {
   "cell_type": "code",
   "execution_count": 60,
   "id": "a399d09b-2523-46d4-9218-8ec33606dd88",
   "metadata": {},
   "outputs": [
    {
     "data": {
      "text/plain": [
       "'Rem desmond'"
      ]
     },
     "execution_count": 60,
     "metadata": {},
     "output_type": "execute_result"
    }
   ],
   "source": [
    "name4"
   ]
  },
  {
   "cell_type": "code",
   "execution_count": 62,
   "id": "d46aa713-a0a0-48cb-b038-01c1f5b2b5f7",
   "metadata": {},
   "outputs": [
    {
     "data": {
      "text/plain": [
       "'*******************Rem desmond********************'"
      ]
     },
     "execution_count": 62,
     "metadata": {},
     "output_type": "execute_result"
    }
   ],
   "source": [
    "name4.center(50,'*')"
   ]
  },
  {
   "cell_type": "code",
   "execution_count": 63,
   "id": "e5feabfd-cfa1-4581-875e-26093e23e860",
   "metadata": {},
   "outputs": [
    {
     "data": {
      "text/plain": [
       "False"
      ]
     },
     "execution_count": 63,
     "metadata": {},
     "output_type": "execute_result"
    }
   ],
   "source": [
    "name4.islower()"
   ]
  },
  {
   "cell_type": "code",
   "execution_count": null,
   "id": "a6d4aa09-23c0-4e31-9842-18853ea1d207",
   "metadata": {},
   "outputs": [],
   "source": []
  }
 ],
 "metadata": {
  "kernelspec": {
   "display_name": "Python 3 (ipykernel)",
   "language": "python",
   "name": "python3"
  },
  "language_info": {
   "codemirror_mode": {
    "name": "ipython",
    "version": 3
   },
   "file_extension": ".py",
   "mimetype": "text/x-python",
   "name": "python",
   "nbconvert_exporter": "python",
   "pygments_lexer": "ipython3",
   "version": "3.12.4"
  }
 },
 "nbformat": 4,
 "nbformat_minor": 5
}
